{
 "cells": [
  {
   "cell_type": "code",
   "execution_count": 11,
   "metadata": {},
   "outputs": [
    {
     "name": "stdout",
     "output_type": "stream",
     "text": [
      "Requirement already satisfied: pandas in c:\\users\\a507\\sstrinic\\lab2\\lab2\\lib\\site-packages (2.2.1)\n",
      "Requirement already satisfied: python-dateutil>=2.8.2 in c:\\users\\a507\\sstrinic\\lab2\\lab2\\lib\\site-packages (from pandas) (2.9.0.post0)\n",
      "Requirement already satisfied: numpy<2,>=1.22.4 in c:\\users\\a507\\sstrinic\\lab2\\lab2\\lib\\site-packages (from pandas) (1.26.4)\n",
      "Requirement already satisfied: tzdata>=2022.7 in c:\\users\\a507\\sstrinic\\lab2\\lab2\\lib\\site-packages (from pandas) (2024.1)\n",
      "Requirement already satisfied: pytz>=2020.1 in c:\\users\\a507\\sstrinic\\lab2\\lab2\\lib\\site-packages (from pandas) (2024.1)\n",
      "Requirement already satisfied: six>=1.5 in c:\\users\\a507\\sstrinic\\lab2\\lab2\\lib\\site-packages (from python-dateutil>=2.8.2->pandas) (1.16.0)\n",
      "Note: you may need to restart the kernel to use updated packages.\n"
     ]
    },
    {
     "name": "stderr",
     "output_type": "stream",
     "text": [
      "WARNING: You are using pip version 22.0.4; however, version 24.0 is available.\n",
      "You should consider upgrading via the 'c:\\Users\\A507\\sstrinic\\lab2\\lab2\\Scripts\\python.exe -m pip install --upgrade pip' command.\n"
     ]
    }
   ],
   "source": [
    "pip install pandas"
   ]
  },
  {
   "cell_type": "code",
   "execution_count": 12,
   "metadata": {},
   "outputs": [
    {
     "name": "stdout",
     "output_type": "stream",
     "text": [
      "Collecting pyunpackNote: you may need to restart the kernel to use updated packages.\n",
      "\n",
      "  Using cached pyunpack-0.3-py2.py3-none-any.whl (4.1 kB)\n",
      "Collecting entrypoint2\n",
      "  Using cached entrypoint2-1.1-py2.py3-none-any.whl (9.9 kB)\n",
      "Collecting easyprocess\n",
      "  Using cached EasyProcess-1.1-py3-none-any.whl (8.7 kB)\n",
      "Installing collected packages: entrypoint2, easyprocess, pyunpack\n",
      "Successfully installed easyprocess-1.1 entrypoint2-1.1 pyunpack-0.3\n"
     ]
    },
    {
     "name": "stderr",
     "output_type": "stream",
     "text": [
      "WARNING: You are using pip version 22.0.4; however, version 24.0 is available.\n",
      "You should consider upgrading via the 'c:\\Users\\A507\\sstrinic\\lab2\\lab2\\Scripts\\python.exe -m pip install --upgrade pip' command.\n"
     ]
    }
   ],
   "source": [
    "pip install pyunpack"
   ]
  },
  {
   "cell_type": "code",
   "execution_count": 5,
   "metadata": {},
   "outputs": [
    {
     "name": "stdout",
     "output_type": "stream",
     "text": [
      "             file_name\n",
      "0            Dokaz.zip\n",
      "1           lab2.ipynb\n",
      "2  Lab2_download_1.zip\n",
      "3           pyvenv.cfg\n"
     ]
    }
   ],
   "source": [
    "# import os\n",
    "# import pandas as pd\n",
    "\n",
    "# # specify the directory path where the files are located\n",
    "# dir_path = 'C:\\\\Users\\\\A507\\\\sstrinic\\\\lab2\\\\lab2'\n",
    "\n",
    "# # create an empty list to store the file names\n",
    "# file_names = []\n",
    "\n",
    "# # iterate through all files in the directory\n",
    "# for file in os.listdir(dir_path):\n",
    "#     # check if the file is a regular file (i.e., not a directory)\n",
    "#     if os.path.isfile(os.path.join(dir_path, file)):\n",
    "#         # if so, add the file name to the list\n",
    "#         file_names.append(file)\n",
    "\n",
    "# # create a Pandas dataframe with the file names\n",
    "# df = pd.DataFrame({'file_name': file_names})\n",
    "\n",
    "# # print the dataframe\n",
    "# print(df)\n",
    "import os\n",
    "import pandas as pd\n",
    "from pyunpack import Archive\n",
    "import requests\n",
    "\n",
    "\n",
    "dir_path = 'Dokaz'\n",
    "\n",
    "def create_directory(dir_path):\n",
    "    try:\n",
    "        os.makedirs(dir_path, exost_ok=True)\n",
    "    except Exception as e:\n",
    "        print(\"EROROROROR\")\n",
    "\n",
    "\n",
    "def download_file_with_custom_headers(url, local_filename):\n",
    "    headers = {\n",
    "        'User-Agent': 'Mozilla/5.0 (Windows NT 10.0; Win64; x64) AppleWebKit/537.36 (KHTML, like Gecko) Chrome/58.0.3029.110 Safari/537.3'\n",
    "    }\n",
    "    \n",
    "    with requests.get(url, headers=headers, stream=True) as r:\n",
    "        r.raise_for_status()  # This will throw an exception for non-200 responses\n",
    "        with open(local_filename, 'wb') as f:\n",
    "            for chunk in r.iter_content(chunk_size=8192): \n",
    "                f.write(chunk)\n",
    "    print(\"File downloaded successfully.\")\n",
    "\n",
    "\n",
    "# Example usage\n",
    "file_url = 'https://github.com/toperkov/RF-FESB-2023-24/blob/main/lab2/Download/Lab2_download_1.zip'\n",
    "output_dir = './Dokaz1.zip'\n",
    "download_file_with_custom_headers(file_url, output_dir)\n",
    "create_directory(dir_path)\n",
    "Archive('Dokaz1.zip').extractall(\"Dokaz\")\n",
    "\n",
    "# specify the directory path where the files are located\n",
    "dir_path = 'C:\\\\Users\\\\A507\\\\sstrinic\\\\lab2\\\\lab2'\n",
    "\n",
    "# create an empty list to store the file names\n",
    "file_names = []\n",
    "extensions = []\n",
    "\n",
    "# iterate through all files in the directory\n",
    "for file in os.listdir(dir_path):\n",
    "    # check if the file is a regular file (i.e., not a directory)\n",
    "    if os.path.isfile(os.path.join(dir_path, file)):\n",
    "        # if so, add the file name to the list\n",
    "        file_names.append(os.path.splitext(file)[0])\n",
    "        extensions.append(os.path.splitext(file)[1])\n",
    "\n",
    "# create a Pandas dataframe with the file names\n",
    "df = pd.DataFrame({'file_name': file_names, 'extensions': extensions})\n",
    "\n",
    "# print the dataframe\n",
    "print(df)"
   ]
  },
  {
   "cell_type": "code",
   "execution_count": 18,
   "metadata": {},
   "outputs": [
    {
     "name": "stdout",
     "output_type": "stream",
     "text": [
      "         file_name extensions\n",
      "0            Dokaz       .zip\n",
      "1           Dokaz1       .zip\n",
      "2             lab2     .ipynb\n",
      "3  Lab2_download_1       .zip\n",
      "4           pyvenv       .cfg\n"
     ]
    }
   ],
   "source": [
    "import os\n",
    "import pandas as pd\n",
    "import requests\n",
    "\n",
    "# specify the directory path where the files are located\n",
    "dir_path = 'C:\\\\Users\\\\A507\\\\sstrinic\\\\lab2\\\\lab2'\n",
    "\n",
    "# create an empty list to store the file names\n",
    "file_names = []\n",
    "extensions = []\n",
    "\n",
    "# iterate through all files in the directory\n",
    "for file in os.listdir(dir_path):\n",
    "    # check if the file is a regular file (i.e., not a directory)\n",
    "    if os.path.isfile(os.path.join(dir_path, file)):\n",
    "        # if so, add the file name to the list\n",
    "        file_names.append(os.path.splitext(file)[0])\n",
    "        extensions.append(os.path.splitext(file)[1])\n",
    "\n",
    "# create a Pandas dataframe with the file names\n",
    "df = pd.DataFrame({'file_name': file_names, 'extensions': extensions})\n",
    "\n",
    "# print the dataframe\n",
    "print(df)"
   ]
  },
  {
   "cell_type": "code",
   "execution_count": 1,
   "metadata": {},
   "outputs": [
    {
     "name": "stdout",
     "output_type": "stream",
     "text": [
      "Note: you may need to restart the kernel to use updated packages.\n"
     ]
    },
    {
     "name": "stderr",
     "output_type": "stream",
     "text": [
      "ERROR: Could not find a version that satisfies the requirement hashlib (from versions: 20081119)\n",
      "ERROR: No matching distribution found for hashlib\n",
      "WARNING: You are using pip version 22.0.4; however, version 24.0 is available.\n",
      "You should consider upgrading via the 'c:\\Users\\A507\\sstrinic\\lab2\\lab2\\Scripts\\python.exe -m pip install --upgrade pip' command.\n"
     ]
    }
   ],
   "source": [
    "pip install hashlib"
   ]
  },
  {
   "cell_type": "code",
   "execution_count": 13,
   "metadata": {},
   "outputs": [
    {
     "name": "stdout",
     "output_type": "stream",
     "text": [
      "  file_name extensions                               md5  \\\n",
      "0     file1             f1b5c93cdf5be24404bf7616ab85ca2b   \n",
      "1     file2       .txt  1a32355ead4bc1a71f7597e07adada5a   \n",
      "2     file3             d3e83f05578eb58701d4293ac9df25ec   \n",
      "\n",
      "                                       sha1  \\\n",
      "0  3a029fa12c929e4efd70b8ce90e8d1946ce4092e   \n",
      "1  6ca90d4163424b959d6d12616dfa8ee6d6213071   \n",
      "2  5d23c6d0e935e877ef1856c35628cd48a0948f58   \n",
      "\n",
      "                                              sha256  \n",
      "0  c0e085881b6127f10966db379621ae2973b0084594fdd3...  \n",
      "1  ee17e61b56ef3a42534e474ceabdfe22cc9c034c4be6cc...  \n",
      "2  fd9eeca35f2fc9cc70859221429c786d4e7f30dc601dcd...  \n"
     ]
    }
   ],
   "source": [
    "import os\n",
    "import pandas as pd\n",
    "import requests\n",
    "import hashlib\n",
    "\n",
    "# specify the directory path where the files are located\n",
    "dir_path = 'C:\\\\Users\\\\A507\\\\sstrinic\\\\lab2\\\\lab2\\\\Lab2_download_1'\n",
    "\n",
    "# create an empty list to store the file names\n",
    "file_names = []\n",
    "extensions = []\n",
    "md5s = []\n",
    "sha1s = []\n",
    "sha256s = []\n",
    "\n",
    "def file2hash(filename, hash_function):\n",
    "    with open(filename, 'rb', buffering=0) as f:\n",
    "        return hash_function(f.read()).hexdigest()\n",
    "\n",
    "# iterate through all files in the directory\n",
    "for file in os.listdir(dir_path):\n",
    "    path = os.path.join(dir_path, file)\n",
    "    # check if the file is a regular file (i.e., not a directory)\n",
    "    if os.path.isfile(os.path.join(dir_path, file)):\n",
    "        # if so, add the file name to the list\n",
    "        file_names.append(os.path.splitext(file)[0])\n",
    "        extensions.append(os.path.splitext(file)[1])\n",
    "        md5s.append(file2hash(path, hashlib.md5))\n",
    "        sha1s.append(file2hash(path, hashlib.sha1))\n",
    "        sha256s.append(file2hash(path, hashlib.sha256))\n",
    "# create a Pandas dataframe with the file names\n",
    "df = pd.DataFrame({'file_name': file_names, 'extensions': extensions, 'md5': md5s, 'sha1': sha1s, 'sha256': sha256s})\n",
    "\n",
    "# print the dataframe\n",
    "print(df)"
   ]
  },
  {
   "cell_type": "code",
   "execution_count": 22,
   "metadata": {},
   "outputs": [
    {
     "name": "stdout",
     "output_type": "stream",
     "text": [
      "Requirement already satisfied: python-magic-bin==0.4.14 in c:\\users\\a507\\sstrinic\\lab2\\lab2\\lib\\site-packages (0.4.14)\n",
      "Note: you may need to restart the kernel to use updated packages.\n"
     ]
    },
    {
     "name": "stderr",
     "output_type": "stream",
     "text": [
      "WARNING: You are using pip version 22.0.4; however, version 24.0 is available.\n",
      "You should consider upgrading via the 'c:\\Users\\A507\\sstrinic\\lab2\\lab2\\Scripts\\python.exe -m pip install --upgrade pip' command.\n"
     ]
    }
   ],
   "source": [
    "pip install python-magic-bin==0.4.14"
   ]
  },
  {
   "cell_type": "code",
   "execution_count": 2,
   "metadata": {},
   "outputs": [
    {
     "name": "stdout",
     "output_type": "stream",
     "text": [
      "  file_name extensions                               md5  \\\n",
      "0     file1             f1b5c93cdf5be24404bf7616ab85ca2b   \n",
      "1     file2       .txt  1a32355ead4bc1a71f7597e07adada5a   \n",
      "2     file3             d3e83f05578eb58701d4293ac9df25ec   \n",
      "\n",
      "                                       sha1  \\\n",
      "0  3a029fa12c929e4efd70b8ce90e8d1946ce4092e   \n",
      "1  6ca90d4163424b959d6d12616dfa8ee6d6213071   \n",
      "2  5d23c6d0e935e877ef1856c35628cd48a0948f58   \n",
      "\n",
      "                                              sha256  \\\n",
      "0  c0e085881b6127f10966db379621ae2973b0084594fdd3...   \n",
      "1  ee17e61b56ef3a42534e474ceabdfe22cc9c034c4be6cc...   \n",
      "2  fd9eeca35f2fc9cc70859221429c786d4e7f30dc601dcd...   \n",
      "\n",
      "                                  magic  \n",
      "0                  Microsoft Word 2007+  \n",
      "1  ASCII text, with no line terminators  \n",
      "2             PDF document, version 1.5  \n"
     ]
    }
   ],
   "source": [
    "import os\n",
    "import pandas as pd\n",
    "import requests\n",
    "import hashlib\n",
    "import magic\n",
    "\n",
    "# specify the directory path where the files are located\n",
    "dir_path = 'C:\\\\Users\\\\A507\\\\sstrinic\\\\lab2\\\\lab2\\\\Lab2_download_1'\n",
    "\n",
    "# create an empty list to store the file names\n",
    "file_names = []\n",
    "extensions = []\n",
    "md5s = []\n",
    "sha1s = []\n",
    "sha256s = []\n",
    "magic_numbers = []\n",
    "fa = magic.Magic()\n",
    "\n",
    "def file2hash(filename, hash_function):\n",
    "    with open(filename, 'rb', buffering=0) as f:\n",
    "        return hash_function(f.read()).hexdigest()\n",
    "\n",
    "# iterate through all files in the directory\n",
    "for file in os.listdir(dir_path):\n",
    "    path = os.path.join(dir_path, file)\n",
    "    # check if the file is a regular file (i.e., not a directory)\n",
    "    if os.path.isfile(os.path.join(dir_path, file)):\n",
    "        # if so, add the file name to the list\n",
    "        file_names.append(os.path.splitext(file)[0])\n",
    "        extensions.append(os.path.splitext(file)[1])\n",
    "        md5s.append(file2hash(path, hashlib.md5))\n",
    "        sha1s.append(file2hash(path, hashlib.sha1))\n",
    "        sha256s.append(file2hash(path, hashlib.sha256))\n",
    "        magic_numbers.append(fa.from_file(path))\n",
    "\n",
    "# create a Pandas dataframe with the file names\n",
    "df = pd.DataFrame({'file_name': file_names, 'extensions': extensions, 'md5': md5s, 'sha1': sha1s, 'sha256': sha256s, 'magic': magic_numbers})\n",
    "\n",
    "# print the dataframe\n",
    "print(df)"
   ]
  },
  {
   "cell_type": "code",
   "execution_count": 32,
   "metadata": {},
   "outputs": [
    {
     "name": "stdout",
     "output_type": "stream",
     "text": [
      "        file_name  extensions                               md5  \\\n",
      "0  Secret_file_11        True  187b0341b64a0e16d74ea3b50e22e6c2   \n",
      "1  Secret_file_12        True  a0c34dd882f1e7e5af2341b1aadb532c   \n",
      "2  Secret_file_22       False  40bba5dd7b99c5e99d0877993ec3f3fb   \n",
      "3  Secret_file_48        True  7a2fdf83ebce571af7fcb93a8825ead1   \n",
      "4  Secret_file_49        True  40bba5dd7b99c5e99d0877993ec3f3fb   \n",
      "5  Secret_file_52       False  8de0128acae226c00efb5f98a9486e68   \n",
      "6  Secret_file_72        True  098cb2f52dda9e3195075d765a9ff01f   \n",
      "7  Secret_file_92        True  4266ea20320c598bc5d7b1d731e3e9e9   \n",
      "\n",
      "                                       sha1  \\\n",
      "0  08152ff79a16f2a181174eb5fe8de0197f4d722f   \n",
      "1  55afda15a501e69ee9bf94fd26e9d74239127e01   \n",
      "2  19b85cc663198f1145078e17dc4af9966b4b9e86   \n",
      "3  e6d6de3bc2c41cccc1d71a27ec175b0bf2c73e20   \n",
      "4  19b85cc663198f1145078e17dc4af9966b4b9e86   \n",
      "5  c15e32d27635f248c1c8b66bb012850e5b342119   \n",
      "6  fb5184f27b5780c74714d89f6c43da0c48e8cd3a   \n",
      "7  1a30a1d139131e7105a1896d7719c85c03003a59   \n",
      "\n",
      "                                              sha256  \\\n",
      "0  5f90ecf090772e3366353171a2e8b9c4001934cdc3a5e0...   \n",
      "1  826626284dca9d999dff621e257b86f4c50b884ecff512...   \n",
      "2  648e6819c965d82acce9dbd3eddb68a0fe2f5c0d1153f2...   \n",
      "3  0f56464717fa229b209549d66e32144644834ae3417ab3...   \n",
      "4  648e6819c965d82acce9dbd3eddb68a0fe2f5c0d1153f2...   \n",
      "5  348175d0b34e14679b11580f653661d0d5195dc6ee7707...   \n",
      "6  7b38723a56bae8faf5c19425592ddd02433f55728e001f...   \n",
      "7  3e174794698cbdf84d9a5cd352f755d0e6bdfc5dc65e0d...   \n",
      "\n",
      "                                               magic  \n",
      "0                                         text/plain  \n",
      "1                                    application/pdf  \n",
      "2                                    application/pdf  \n",
      "3  application/vnd.openxmlformats-officedocument....  \n",
      "4                                    application/pdf  \n",
      "5                                    application/pdf  \n",
      "6  application/vnd.openxmlformats-officedocument....  \n",
      "7                                         image/jpeg  \n"
     ]
    }
   ],
   "source": [
    "import os\n",
    "import pandas as pd\n",
    "import requests\n",
    "import hashlib\n",
    "import magic\n",
    "import mimetypes\n",
    "\n",
    "# specify the directory path where the files are located\n",
    "dir_path = 'C:\\\\Users\\\\A507\\\\sstrinic\\\\lab2\\\\lab2\\\\DOkaz'\n",
    "\n",
    "# create an empty list to store the file names\n",
    "file_names = []\n",
    "extensions = []\n",
    "md5s = []\n",
    "sha1s = []\n",
    "sha256s = []\n",
    "magic_numbers = []\n",
    "fa = magic.Magic(mime=True)\n",
    "original_extensions = []\n",
    "extension_matches = []\n",
    "\n",
    "def file2hash(filename, hash_function):\n",
    "    with open(filename, 'rb', buffering=0) as f:\n",
    "        return hash_function(f.read()).hexdigest()\n",
    "\n",
    "# iterate through all files in the directory\n",
    "for file in os.listdir(dir_path):\n",
    "    path = os.path.join(dir_path, file)\n",
    "    # check if the file is a regular file (i.e., not a directory)\n",
    "    if os.path.isfile(os.path.join(dir_path, file)):\n",
    "        # if so, add the file name to the list\n",
    "        file_names.append(os.path.splitext(file)[0])\n",
    "        extensions.append(os.path.splitext(file)[1])\n",
    "        md5s.append(file2hash(path, hashlib.md5))\n",
    "        sha1s.append(file2hash(path, hashlib.sha1))\n",
    "        sha256s.append(file2hash(path, hashlib.sha256))\n",
    "\n",
    "        magic_num=fa.from_file(path)\n",
    "        magic_numbers.append(magic_num)\n",
    "        original_extensions.append(mimetypes.guess_all_extensions(magic_num.lower())[0])\n",
    "\n",
    "        # check if the magic number contains the file extension\n",
    "        if os.path.splitext(file)[1].lower() == '':\n",
    "            extension_matches.append(False)\n",
    "        elif mimetypes.guess_type('test'+os.path.splitext(file)[1].lower())[0] in magic_num.lower():\n",
    "            extension_matches.append(True)\n",
    "        else:\n",
    "            extension_matches.append(False)\n",
    "\n",
    "# create a Pandas dataframe with the file names\n",
    "df = pd.DataFrame({'file_name': file_names, 'extensions': extensions, 'md5': md5s, 'sha1': sha1s, 'sha256': sha256s, 'magic': magic_numbers, 'extensions': extension_matches})\n",
    "\n",
    "# print the dataframe\n",
    "print(df)"
   ]
  },
  {
   "cell_type": "code",
   "execution_count": null,
   "metadata": {},
   "outputs": [],
   "source": [
    "Secret file 52 nije jpg nego je pdf."
   ]
  }
 ],
 "metadata": {
  "kernelspec": {
   "display_name": "lab2",
   "language": "python",
   "name": "python3"
  },
  "language_info": {
   "codemirror_mode": {
    "name": "ipython",
    "version": 3
   },
   "file_extension": ".py",
   "mimetype": "text/x-python",
   "name": "python",
   "nbconvert_exporter": "python",
   "pygments_lexer": "ipython3",
   "version": "3.9.13"
  }
 },
 "nbformat": 4,
 "nbformat_minor": 2
}
